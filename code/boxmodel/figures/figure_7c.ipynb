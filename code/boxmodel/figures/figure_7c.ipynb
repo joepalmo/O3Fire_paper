{
 "cells": [
  {
   "cell_type": "code",
   "execution_count": 1,
   "metadata": {},
   "outputs": [
    {
     "data": {
      "text/plain": [
       "4-element Vector{String}:\n",
       " \"@\"\n",
       " \"@v#.#\"\n",
       " \"@stdlib\"\n",
       " \"/net/fs09/d0/jpalmo/Projects/O3Fire/paper/code/boxmodel/figures/../src\""
      ]
     },
     "execution_count": 1,
     "metadata": {},
     "output_type": "execute_result"
    }
   ],
   "source": [
    "push!(LOAD_PATH, joinpath(@__DIR__, \"..\", \"src\"))"
   ]
  },
  {
   "cell_type": "code",
   "execution_count": 3,
   "metadata": {},
   "outputs": [],
   "source": [
    "using Plots\n",
    "using CairoMakie\n",
    "using StatsPlots\n",
    "using Statistics\n",
    "using LaTeXStrings"
   ]
  },
  {
   "cell_type": "code",
   "execution_count": 4,
   "metadata": {},
   "outputs": [],
   "source": [
    "using CSV\n",
    "using DataFrames\n",
    "using CategoricalArrays\n",
    "\n",
    "melted_data = CSV.read(\"sensitivity_results.csv\", DataFrame);"
   ]
  },
  {
   "cell_type": "markdown",
   "metadata": {},
   "source": [
    "# Plot"
   ]
  },
  {
   "cell_type": "code",
   "execution_count": 5,
   "metadata": {},
   "outputs": [],
   "source": [
    "# Define the custom order for the Factor column\n",
    "custom_order = [\"CO\", \"NOxCO\", \"VOCCO\", \"CH2OCO\", \"HNO2CO\", \"I\", \"ASA\", \"default\"]\n",
    "\n",
    "# Convert the Factor column to a CategoricalArray with the custom order\n",
    "melted_data[!, :Factor] = CategoricalArray(melted_data[!, :Factor], ordered=true, levels=custom_order)\n",
    "\n",
    "# Sort the DataFrame by the Factor column\n",
    "sorted_data = sort(melted_data, :Factor);"
   ]
  },
  {
   "cell_type": "code",
   "execution_count": 6,
   "metadata": {},
   "outputs": [],
   "source": [
    "# Calculate the mean of Sensitivity within the subset of Factor == \"default\" for each Case\n",
    "mean_sensitivity_default = combine(groupby(filter(row -> row.Factor == \"default\", sorted_data), :Case), :Sensitivity => mean => :Mean_Sensitivity);"
   ]
  },
  {
   "cell_type": "code",
   "execution_count": 7,
   "metadata": {},
   "outputs": [],
   "source": [
    "# Drop any rows with Factor == \"default\" from sorted_data\n",
    "filtered_data = filter(row -> row.Factor != \"default\", sorted_data);"
   ]
  },
  {
   "cell_type": "code",
   "execution_count": 8,
   "metadata": {},
   "outputs": [
    {
     "data": {
      "image/svg+xml": [
       "<?xml version=\"1.0\" encoding=\"UTF-8\"?>\n",
       "<!DOCTYPE svg PUBLIC \"-//W3C//DTD SVG 1.1//EN\"\n",
       " \"http://www.w3.org/Graphics/SVG/1.1/DTD/svg11.dtd\">\n",
       "<svg xmlns=\"http://www.w3.org/2000/svg\" version=\"1.1\"\n",
       "     width=\"75mm\" height=\"25mm\"\n",
       "     viewBox=\"0 0 3 1\" preserveAspectRatio=\"none\"\n",
       "     shape-rendering=\"crispEdges\" stroke=\"none\">\n",
       "<rect width=\".96\" height=\".96\" x=\"0\" y=\"0\" fill=\"#FF7F0E\" />\n",
       "<rect width=\".96\" height=\".96\" x=\"1\" y=\"0\" fill=\"#1F77B4\" />\n",
       "<rect width=\".96\" height=\".96\" x=\"2\" y=\"0\" fill=\"#2CA02C\" />\n",
       "</svg>"
      ],
      "text/plain": [
       "3-element Array{RGB{Float64},1} with eltype RGB{Float64}:\n",
       " RGB{Float64}(1.0,0.498,0.0549)\n",
       " RGB{Float64}(0.1216,0.4667,0.7059)\n",
       " RGB{Float64}(0.1725,0.6275,0.1725)"
      ]
     },
     "execution_count": 8,
     "metadata": {},
     "output_type": "execute_result"
    }
   ],
   "source": [
    "# Define custom colors for the Case groups\n",
    "custom_colors = [palette(:tab10)[2], palette(:tab10)[1], palette(:tab10)[3]]  # Specify colors as a vector"
   ]
  },
  {
   "cell_type": "code",
   "execution_count": 9,
   "metadata": {},
   "outputs": [
    {
     "data": {
      "text/plain": [
       "7-element Vector{LaTeXString}:\n",
       " L\"$CO$\"\n",
       " L\"$\\frac{NO_x}{CO}$\"\n",
       " L\"$\\frac{VOC}{CO}$\"\n",
       " L\"$\\frac{CH_2O}{CO}$\"\n",
       " L\"$\\frac{HONO}{CO}$\"\n",
       " L\"$I$\"\n",
       " L\"$ASA$\""
      ]
     },
     "execution_count": 9,
     "metadata": {},
     "output_type": "execute_result"
    }
   ],
   "source": [
    "# Define the LaTeX labels for the Factor column\n",
    "latex_labels = [\n",
    "    L\"CO\",  \n",
    "    L\"\\frac{NO_x}{CO}\",  \n",
    "    L\"\\frac{VOC}{CO}\",  \n",
    "    L\"\\frac{CH_2O}{CO}\",  \n",
    "    L\"\\frac{HONO}{CO}\",  \n",
    "    L\"I\",  \n",
    "    L\"ASA\", \n",
    "]"
   ]
  },
  {
   "cell_type": "code",
   "execution_count": 13,
   "metadata": {},
   "outputs": [
    {
     "data": {
      "text/plain": [
       "\"/net/fs09/d0/jpalmo/Projects/O3Fire/paper/figures/fig_07c2.png\""
      ]
     },
     "execution_count": 13,
     "metadata": {},
     "output_type": "execute_result"
    }
   ],
   "source": [
    "plotting_data = filter(row -> row.Case == \"far_field\", filtered_data)\n",
    "@df plotting_data StatsPlots.boxplot(:Factor, :Sensitivity, group=:Case, fill = (0.5,), line=0.5, linecolors = custom_colors[1], palette = custom_colors, label=\"far-field\", xlabel=\"Factor\", ylabel=\"Sensitivity\", fmt=:png, legend=:topright, grid=false, size=(800, 250), dpi=300, markersize=2,)\n",
    "plotting_data = filter(row -> row.Case == \"near_field\", filtered_data)\n",
    "@df plotting_data StatsPlots.boxplot!(:Factor, :Sensitivity, group=:Case, fill = (0.5,), line=0.5, linecolors = custom_colors[2], palette = custom_colors, label=\"near-field\", xlabel=\"Factor\", ylabel=\"Sensitivity\", fmt=:png, legend=:topright, grid=false, dpi=300, markersize=2)\n",
    "\n",
    "# Plot a horizontal line at y=10\n",
    "hline!(mean_sensitivity_default[mean_sensitivity_default.Case .== \"near_field\", :Mean_Sensitivity], line=:dash, color=custom_colors[2], label=\"\")\n",
    "# StatsPlots.ylims!(-1, 25)\n",
    "p = StatsPlots.plot!(legendfontsize=16, tickfontsize=12, guidefontsize=14, titlefontsize=16, xlabelfontsize=14, ylabelfontsize=14, left_margin = 6Plots.mm, bottom_margin = 10Plots.mm)\n",
    "hline!(mean_sensitivity_default[mean_sensitivity_default.Case .== \"far_field\", :Mean_Sensitivity], line=:dash, color=custom_colors[1], label=\"\")\n",
    "Plots.xlabel!(\"Factor\")\n",
    "# Set the x-axis labels to LaTeX strings\n",
    "Plots.xticks!(1:length(latex_labels), latex_labels)\n",
    "Plots.yticks!([10, 20, 30], [\"10\", \"20\", \"30\"])\n",
    "Plots.ylabel!(L\"$P_{O_3}$ [ppb/hr]\")\n",
    "# Save the figure\n",
    "savefig(p, \"../../../figures/fig_07c2.png\",)"
   ]
  },
  {
   "cell_type": "code",
   "execution_count": 12,
   "metadata": {},
   "outputs": [
    {
     "data": {
      "text/plain": [
       "\"/net/fs09/d0/jpalmo/Projects/O3Fire/paper/figures/fig_07c1.png\""
      ]
     },
     "execution_count": 12,
     "metadata": {},
     "output_type": "execute_result"
    }
   ],
   "source": [
    "plotting_data = filter(row -> row.Case == \"toe\", filtered_data)\n",
    "@df plotting_data StatsPlots.boxplot(:Factor, :Sensitivity, group=:Case, fill = (0.7,), linecolors = palette(:tab10)[3], palette = [palette(:tab10)[3]], line = 0.5, label=\"at emission\", xlabel=\"Factor\", ylabel=\"Sensitivity\", fmt=:png, legend=:topleft, grid=false, xticks=false, size=(800, 175), dpi=300, markersize=2)\n",
    "# StatsPlots.ylims!(-1, 25)\n",
    "hline!(mean_sensitivity_default[mean_sensitivity_default.Case .== \"toe\", :Mean_Sensitivity], line=:dash, color=custom_colors[3], label=\"\")\n",
    "p = StatsPlots.plot!(legendfontsize=16, tickfontsize=12, guidefontsize=14, titlefontsize=16, xlabelfontsize=14, ylabelfontsize=14, left_margin = 6Plots.mm, bottom_margin = -1Plots.mm)\n",
    "Plots.xlabel!(\"Factor\")\n",
    "Plots.yticks!([100, 200, 300], [\"100\", \"200\", \"300\"])\n",
    "Plots.ylabel!(L\"$P_{O_3}$ [ppb/hr]\")\n",
    "savefig(p, \"../../../figures/fig_07c1.png\",)"
   ]
  },
  {
   "cell_type": "code",
   "execution_count": null,
   "metadata": {},
   "outputs": [],
   "source": []
  },
  {
   "cell_type": "code",
   "execution_count": null,
   "metadata": {},
   "outputs": [],
   "source": []
  }
 ],
 "metadata": {
  "kernelspec": {
   "display_name": "Julia 1.10.4",
   "language": "julia",
   "name": "julia-1.10"
  },
  "language_info": {
   "file_extension": ".jl",
   "mimetype": "application/julia",
   "name": "julia",
   "version": "1.10.4"
  }
 },
 "nbformat": 4,
 "nbformat_minor": 2
}
